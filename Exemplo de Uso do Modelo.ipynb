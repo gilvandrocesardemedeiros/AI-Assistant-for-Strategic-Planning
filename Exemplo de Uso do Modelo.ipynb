{
 "cells": [
  {
   "cell_type": "code",
   "execution_count": 1,
   "id": "0c7e4889-df8d-4252-bf7f-f2f309aec9b7",
   "metadata": {},
   "outputs": [],
   "source": [
    "from Model import StartupStrategicPlanning\n",
    "import openai"
   ]
  },
  {
   "cell_type": "code",
   "execution_count": 2,
   "id": "7c2f29d9-bcd3-4a2d-b8c1-60487dfab25a",
   "metadata": {},
   "outputs": [],
   "source": [
    "MODEL_NAME = \"phi3:mini\"\n",
    "\n",
    "# Configura o client para o Ollama\n",
    "client = openai.OpenAI(\n",
    "    base_url=\"http://localhost:11434/v1\",\n",
    "    api_key=\"nokeyneeded\"\n",
    ")"
   ]
  },
  {
   "cell_type": "code",
   "execution_count": 3,
   "id": "02f3c10a-aa21-4937-8412-156a46eff5cb",
   "metadata": {},
   "outputs": [],
   "source": [
    "# Instancia o assistente de estratégia\n",
    "startup_assistant = StartupStrategicPlanning(\n",
    "    client=client,\n",
    "    model_name=MODEL_NAME,\n",
    "    startup_name=\"DisnAI\",\n",
    "    mission=\"Promover uma fonte de entretenimento participativa, no qual o usuário se torna também parte da construção do enredo\",\n",
    "    vision=\"\",\n",
    "    customers=\"Usuários residenciais, pessoas comuns\",\n",
    "    startup_stage=\"Ideação\",\n",
    "    value_proposition=\"\",\n",
    "    competitive_advantages=\"Uso de modelos generativos avançados\",\n",
    "    performance = 1\n",
    ")"
   ]
  },
  {
   "cell_type": "code",
   "execution_count": 4,
   "id": "9b36453f-c879-499a-b051-391a1a3a95cd",
   "metadata": {},
   "outputs": [
    {
     "name": "stdout",
     "output_type": "stream",
     "text": [
      "Informações iniciais da startup:\n",
      "{'startup_name': 'DisnAI', 'mission': 'Promover uma fonte de entretenimento participativa, no qual o usuário se torna também parte da construção do enredo', 'vision': '', 'customers': 'Usuários residenciais, pessoas comuns', 'startup_stage': 'Ideação', 'value_proposition': '', 'competitive_advantages': 'Uso de modelos generativos avançados'}\n"
     ]
    }
   ],
   "source": [
    "# Mostra as informações iniciais\n",
    "print(\"Informações iniciais da startup:\")\n",
    "print(startup_assistant.get_startup_info())"
   ]
  },
  {
   "cell_type": "code",
   "execution_count": 5,
   "id": "f2af2116-fc1a-4e34-8634-e7596dd62975",
   "metadata": {},
   "outputs": [],
   "source": [
    "# Preenche os campos ausentes usando o modelo\n",
    "startup_assistant.fill_informations()"
   ]
  },
  {
   "cell_type": "code",
   "execution_count": 6,
   "id": "5331632a-4056-4ebf-a2ee-de471e07294c",
   "metadata": {},
   "outputs": [],
   "source": [
    "# Verifica e aplica controle de qualidade sem considerar respostas originais\n",
    "startup_assistant.response_quality_control(include_original_responses = False)"
   ]
  },
  {
   "cell_type": "code",
   "execution_count": 7,
   "id": "e61a6796-83d5-4a1f-a0a9-f296b57c427f",
   "metadata": {},
   "outputs": [],
   "source": [
    "# Verifica e aplica controle de qualidade considerando respostas originais\n",
    "startup_assistant.response_quality_control(include_original_responses = True)"
   ]
  },
  {
   "cell_type": "code",
   "execution_count": 8,
   "id": "4bb52666-328e-43a6-8384-9fd335d1f3ab",
   "metadata": {},
   "outputs": [],
   "source": [
    "# Revisa um tópico específico sob demanda\n",
    "startup_assistant.review_specific_response(\"competitive_advantages\")"
   ]
  },
  {
   "cell_type": "code",
   "execution_count": 9,
   "id": "6da8814c-8adb-41f7-b21a-eb0a55561c35",
   "metadata": {},
   "outputs": [],
   "source": [
    "# Revisa um campo específico com comentário adicional\n",
    "startup_assistant.review_target_with_comment(target = \"vision\", comment = \"Minha visão não estabelece uma meta tangível para os próximos anos\")"
   ]
  },
  {
   "cell_type": "code",
   "execution_count": 10,
   "id": "66a0b600-ac1b-49ca-91dd-99ed21387e03",
   "metadata": {},
   "outputs": [],
   "source": [
    "# Define objetivos estratégicos com base nas informações disponíveis para a startup\n",
    "startup_assistant.generate_strategic_objectives()"
   ]
  },
  {
   "cell_type": "code",
   "execution_count": 11,
   "id": "18213997-2d72-4056-8ba0-f32dc735f94d",
   "metadata": {},
   "outputs": [],
   "source": [
    "# Revisa objetivos estratégicos com base nas informações disponíveis para a startup\n",
    "startup_assistant.refine_strategic_objectives()"
   ]
  },
  {
   "cell_type": "code",
   "execution_count": 12,
   "id": "3e36985f-afff-44d7-8c7c-a878b5875961",
   "metadata": {},
   "outputs": [],
   "source": [
    "# Ranqueia os objetivos estratégicos do mais importante ao menos importante para a startup\n",
    "startup_assistant.priority_objectives()"
   ]
  }
 ],
 "metadata": {
  "kernelspec": {
   "display_name": "Python 3 (ipykernel)",
   "language": "python",
   "name": "python3"
  },
  "language_info": {
   "codemirror_mode": {
    "name": "ipython",
    "version": 3
   },
   "file_extension": ".py",
   "mimetype": "text/x-python",
   "name": "python",
   "nbconvert_exporter": "python",
   "pygments_lexer": "ipython3",
   "version": "3.12.4"
  }
 },
 "nbformat": 4,
 "nbformat_minor": 5
}
